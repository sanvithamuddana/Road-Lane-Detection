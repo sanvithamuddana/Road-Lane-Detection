{
  "nbformat": 4,
  "nbformat_minor": 0,
  "metadata": {
    "colab": {
      "provenance": [],
      "authorship_tag": "ABX9TyOletSDsxn/htEpJTpijk0P",
      "include_colab_link": true
    },
    "kernelspec": {
      "name": "python3",
      "display_name": "Python 3"
    },
    "language_info": {
      "name": "python"
    }
  },
  "cells": [
    {
      "cell_type": "markdown",
      "metadata": {
        "id": "view-in-github",
        "colab_type": "text"
      },
      "source": [
        "<a href=\"https://colab.research.google.com/github/sanvithamuddana/Road-Lane-Detection/blob/main/Untitled1.ipynb\" target=\"_parent\"><img src=\"https://colab.research.google.com/assets/colab-badge.svg\" alt=\"Open In Colab\"/></a>"
      ]
    },
    {
      "cell_type": "code",
      "execution_count": null,
      "metadata": {
        "id": "eNg1LbLR5pA8"
      },
      "outputs": [],
      "source": [
        "import cv2\n",
        "import numpy as np\n",
        "import matplotlib.pyplot as plt\n",
        "def make_coordinates(image, line_parameters):\n",
        "  slope, intercept = line_parameters\n",
        "  y1 = image.shape[0]\n",
        "  y2 = int(y1*(3/5))\n",
        "  x1 = int((y1 - intercept)/slope)\n",
        "  x2 = int((y2 - intercept)/slope)\n",
        "  return np.array([x1, y1, x2, y2])\n",
        "\n",
        "def averaged_slope_intercept(image, lines):\n",
        "  left_fit =[]\n",
        "  right_fit=[]\n",
        "  for linr in lines:\n",
        "    x1, y1, x2, y2 = line.reshape(4)\n",
        "    parameters =np.polyfit((x1,x2), (y1, y2), 1)\n",
        "    slope = parameters[0]\n",
        "    intercept = parameters[1]\n",
        "    if slope<0:\n",
        "      left_fit.append((slope, intercept))\n",
        "    else:\n",
        "      right_fit.append((slope, intercept))\n",
        "  left_fit_average = np.average(left_fit,axis=0)\n",
        "  right_fit_average = np.average(right_fit, axis=0)\n",
        "  left_line = make_coordinates(image, left_fit_average)\n",
        "  right_line = make_coordinates(image, right_fit_average)\n",
        "  return np.array([left_line, right_line])\n",
        "\n",
        "def canny (image):\n",
        "  gray = cv2.cvtColor (image, cv2. COLOR_RGB2GRAY)\n",
        "  blur = cv2.GaussianBlur(gray, (5, 5), 0)\n",
        "  canny = cv2. Canny (blur, 50, 150)\n",
        "  return canny\n",
        "\n",
        "def display_lines (image, lines):\n",
        "  line_image = np.zeros_like(image)\n",
        "  if lines is not None:\n",
        "    for x1, y1, x2, y2 in lines:\n",
        "      cv2.line(line_image, (x1, Y1), (x2, y2), (255, 0, 0), 10)\n",
        "  return line_image\n",
        "\n",
        "def region_of_interest(image):\n",
        "  height = image. shape [0]\n",
        "  polygons = np.array([\n",
        "  [(200, height ), (1100, height), (550, 250)]\n",
        "  ])\n",
        "  mask = np.zeros_like (image)\n",
        "  cv2. fillPoly (mask, polygons, 255)\n",
        "  masked_image = cv2.bitwise_and (image, mask)\n",
        "  return masked_image\n",
        "\n",
        "cap = cv2.VideoCapture (\"test2.mp4\")\n",
        "while (cap.isOpened()):\n",
        "  _, frame = cap.read ()\n",
        "  canny_image = canny (frame)\n",
        "  cropped_image = region_of_interest (canny_image)\n",
        "  lines = cv2.HoughLinesP(cropped_image, 2, np.pi/180, 100, p.array([]), minLineLength=40, maxLineGap=5)\n",
        "  averaged_lines = averaged_slope_intercept (frame, lines)\n",
        "  line_image = display_lines(frame, averaged_lines)\n",
        "  combo_image = cv2.addWeighted(frame, 0.8, line_image, 1, 1 )\n",
        "  cv2.imshow(\"result\", combo_image)\n",
        "  if cv2.waitkey(1) & OXFF == ord('q'):\n",
        "    break\n",
        "cap.release()\n",
        "cv2.destroyAllWindows()"
      ]
    }
  ]
}